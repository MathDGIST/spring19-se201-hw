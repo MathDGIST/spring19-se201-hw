{
 "cells": [
  {
   "cell_type": "markdown",
   "metadata": {},
   "source": [
    "# SE201 Homework 1\n",
    "\n",
    "Due 19/3/15 23:59\n",
    "\n",
    "**NOTE**\n",
    "\n",
    "The solution can be typed or written by hand. In any case, your work must be printed as pdf file and uploaded to LMS."
   ]
  },
  {
   "cell_type": "markdown",
   "metadata": {},
   "source": [
    "## Problem 1-1"
   ]
  },
  {
   "cell_type": "markdown",
   "metadata": {},
   "source": [
    "Prove the following theorem.\n",
    "\n",
    "> Let $v, w$ be two $3$-dimensional vectors and $\\theta$ be the angle between them. Then \n",
    "$$v\\circ w = \\Vert v\\Vert\\Vert w\\Vert\\cos\\theta$$\n"
   ]
  },
  {
   "cell_type": "markdown",
   "metadata": {},
   "source": [
    "## Problem 1-2\n",
    "\n",
    "Prove the above theorem for $n$-dimensional vectors $v$, $w$. (You must clarify the meaning of the angle between two $n$-dimensional vectors.)"
   ]
  },
  {
   "cell_type": "markdown",
   "metadata": {},
   "source": [
    "## Problem 1-3\n",
    "\n",
    "Using the theorem above, explain why the inner product is important to understand the geometry of vectors."
   ]
  },
  {
   "cell_type": "markdown",
   "metadata": {},
   "source": [
    "## Problem 2-1\n",
    "\n",
    "Find the Row Echelon Form (REF) of\n",
    "$$ A = \\begin{bmatrix} 3 & 0 & 1 & 2 \\\\ 1 & 1 & 0 & -1 \\\\ 0 & 2 & -1 & 0 \\end{bmatrix}$$\n",
    "by elementary row operations $P_{ij}$ and $E_{ij}(c)$. Write each step of operation explicitly."
   ]
  },
  {
   "cell_type": "markdown",
   "metadata": {},
   "source": [
    "## Problem 2-2\n",
    "\n",
    "Find the inverse matrix of\n",
    "$$A = \\begin{bmatrix} 1 & 1 & 0 \\\\ -1 & 2 & 1 \\\\ 0 & 1 & 3 \\end{bmatrix}$$\n",
    "by using elimination method."
   ]
  },
  {
   "cell_type": "code",
   "execution_count": null,
   "metadata": {
    "collapsed": true
   },
   "outputs": [],
   "source": []
  }
 ],
 "metadata": {
  "kernelspec": {
   "display_name": "Python 3",
   "language": "python",
   "name": "python3"
  },
  "language_info": {
   "codemirror_mode": {
    "name": "ipython",
    "version": 3
   },
   "file_extension": ".py",
   "mimetype": "text/x-python",
   "name": "python",
   "nbconvert_exporter": "python",
   "pygments_lexer": "ipython3",
   "version": "3.6.3"
  }
 },
 "nbformat": 4,
 "nbformat_minor": 2
}
